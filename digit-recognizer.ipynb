{
 "cells": [
  {
   "cell_type": "code",
   "execution_count": 1,
   "id": "e980303e",
   "metadata": {
    "_cell_guid": "b1076dfc-b9ad-4769-8c92-a6c4dae69d19",
    "_uuid": "8f2839f25d086af736a60e9eeb907d3b93b6e0e5",
    "execution": {
     "iopub.execute_input": "2022-10-27T13:17:34.106667Z",
     "iopub.status.busy": "2022-10-27T13:17:34.105678Z",
     "iopub.status.idle": "2022-10-27T13:17:34.124289Z",
     "shell.execute_reply": "2022-10-27T13:17:34.122954Z"
    },
    "papermill": {
     "duration": 0.035386,
     "end_time": "2022-10-27T13:17:34.128191",
     "exception": false,
     "start_time": "2022-10-27T13:17:34.092805",
     "status": "completed"
    },
    "tags": []
   },
   "outputs": [
    {
     "name": "stdout",
     "output_type": "stream",
     "text": [
      "/kaggle/input/digit-recognizer/sample_submission.csv\n",
      "/kaggle/input/digit-recognizer/train.csv\n",
      "/kaggle/input/digit-recognizer/test.csv\n"
     ]
    }
   ],
   "source": [
    "# This Python 3 environment comes with many helpful analytics libraries installed\n",
    "# It is defined by the kaggle/python Docker image: https://github.com/kaggle/docker-python\n",
    "# For example, here's several helpful packages to load\n",
    "\n",
    "import numpy as np # linear algebra\n",
    "import pandas as pd # data processing, CSV file I/O (e.g. pd.read_csv)\n",
    "\n",
    "# Input data files are available in the read-only \"../input/\" directory\n",
    "# For example, running this (by clicking run or pressing Shift+Enter) will list all files under the input directory\n",
    "\n",
    "import os\n",
    "for dirname, _, filenames in os.walk('/kaggle/input'):\n",
    "    for filename in filenames:\n",
    "        print(os.path.join(dirname, filename))\n",
    "\n",
    "# You can write up to 20GB to the current directory (/kaggle/working/) that gets preserved as output when you create a version using \"Save & Run All\" \n",
    "# You can also write temporary files to /kaggle/temp/, but they won't be saved outside of the current session"
   ]
  },
  {
   "cell_type": "code",
   "execution_count": 2,
   "id": "481122ec",
   "metadata": {
    "execution": {
     "iopub.execute_input": "2022-10-27T13:17:34.153436Z",
     "iopub.status.busy": "2022-10-27T13:17:34.152254Z",
     "iopub.status.idle": "2022-10-27T13:17:40.187480Z",
     "shell.execute_reply": "2022-10-27T13:17:40.186327Z"
    },
    "papermill": {
     "duration": 6.04937,
     "end_time": "2022-10-27T13:17:40.190415",
     "exception": false,
     "start_time": "2022-10-27T13:17:34.141045",
     "status": "completed"
    },
    "tags": []
   },
   "outputs": [],
   "source": [
    "train=pd.read_csv('../input/digit-recognizer/train.csv')\n",
    "test=pd.read_csv('../input/digit-recognizer/test.csv')"
   ]
  },
  {
   "cell_type": "code",
   "execution_count": 3,
   "id": "022422ea",
   "metadata": {
    "execution": {
     "iopub.execute_input": "2022-10-27T13:17:40.206477Z",
     "iopub.status.busy": "2022-10-27T13:17:40.206053Z",
     "iopub.status.idle": "2022-10-27T13:17:40.212622Z",
     "shell.execute_reply": "2022-10-27T13:17:40.211549Z"
    },
    "papermill": {
     "duration": 0.017013,
     "end_time": "2022-10-27T13:17:40.214761",
     "exception": false,
     "start_time": "2022-10-27T13:17:40.197748",
     "status": "completed"
    },
    "tags": []
   },
   "outputs": [],
   "source": [
    "import os\n",
    "import warnings\n",
    "warnings.filterwarnings('ignore')\n",
    "%matplotlib inline"
   ]
  },
  {
   "cell_type": "code",
   "execution_count": 4,
   "id": "62a78bf4",
   "metadata": {
    "execution": {
     "iopub.execute_input": "2022-10-27T13:17:40.230240Z",
     "iopub.status.busy": "2022-10-27T13:17:40.229875Z",
     "iopub.status.idle": "2022-10-27T13:17:40.239102Z",
     "shell.execute_reply": "2022-10-27T13:17:40.237955Z"
    },
    "papermill": {
     "duration": 0.019513,
     "end_time": "2022-10-27T13:17:40.241414",
     "exception": false,
     "start_time": "2022-10-27T13:17:40.221901",
     "status": "completed"
    },
    "tags": []
   },
   "outputs": [
    {
     "data": {
      "text/plain": [
       "42000"
      ]
     },
     "execution_count": 4,
     "metadata": {},
     "output_type": "execute_result"
    }
   ],
   "source": [
    "len(train)"
   ]
  },
  {
   "cell_type": "code",
   "execution_count": 5,
   "id": "af608a39",
   "metadata": {
    "execution": {
     "iopub.execute_input": "2022-10-27T13:17:40.257933Z",
     "iopub.status.busy": "2022-10-27T13:17:40.257298Z",
     "iopub.status.idle": "2022-10-27T13:17:40.280998Z",
     "shell.execute_reply": "2022-10-27T13:17:40.279772Z"
    },
    "papermill": {
     "duration": 0.034386,
     "end_time": "2022-10-27T13:17:40.283167",
     "exception": false,
     "start_time": "2022-10-27T13:17:40.248781",
     "status": "completed"
    },
    "tags": []
   },
   "outputs": [
    {
     "data": {
      "text/plain": [
       "<bound method DataFrame.info of        label  pixel0  pixel1  pixel2  pixel3  pixel4  pixel5  pixel6  pixel7  \\\n",
       "0          1       0       0       0       0       0       0       0       0   \n",
       "1          0       0       0       0       0       0       0       0       0   \n",
       "2          1       0       0       0       0       0       0       0       0   \n",
       "3          4       0       0       0       0       0       0       0       0   \n",
       "4          0       0       0       0       0       0       0       0       0   \n",
       "...      ...     ...     ...     ...     ...     ...     ...     ...     ...   \n",
       "41995      0       0       0       0       0       0       0       0       0   \n",
       "41996      1       0       0       0       0       0       0       0       0   \n",
       "41997      7       0       0       0       0       0       0       0       0   \n",
       "41998      6       0       0       0       0       0       0       0       0   \n",
       "41999      9       0       0       0       0       0       0       0       0   \n",
       "\n",
       "       pixel8  ...  pixel774  pixel775  pixel776  pixel777  pixel778  \\\n",
       "0           0  ...         0         0         0         0         0   \n",
       "1           0  ...         0         0         0         0         0   \n",
       "2           0  ...         0         0         0         0         0   \n",
       "3           0  ...         0         0         0         0         0   \n",
       "4           0  ...         0         0         0         0         0   \n",
       "...       ...  ...       ...       ...       ...       ...       ...   \n",
       "41995       0  ...         0         0         0         0         0   \n",
       "41996       0  ...         0         0         0         0         0   \n",
       "41997       0  ...         0         0         0         0         0   \n",
       "41998       0  ...         0         0         0         0         0   \n",
       "41999       0  ...         0         0         0         0         0   \n",
       "\n",
       "       pixel779  pixel780  pixel781  pixel782  pixel783  \n",
       "0             0         0         0         0         0  \n",
       "1             0         0         0         0         0  \n",
       "2             0         0         0         0         0  \n",
       "3             0         0         0         0         0  \n",
       "4             0         0         0         0         0  \n",
       "...         ...       ...       ...       ...       ...  \n",
       "41995         0         0         0         0         0  \n",
       "41996         0         0         0         0         0  \n",
       "41997         0         0         0         0         0  \n",
       "41998         0         0         0         0         0  \n",
       "41999         0         0         0         0         0  \n",
       "\n",
       "[42000 rows x 785 columns]>"
      ]
     },
     "execution_count": 5,
     "metadata": {},
     "output_type": "execute_result"
    }
   ],
   "source": [
    "train.info"
   ]
  },
  {
   "cell_type": "code",
   "execution_count": 6,
   "id": "e396cd84",
   "metadata": {
    "execution": {
     "iopub.execute_input": "2022-10-27T13:17:40.301875Z",
     "iopub.status.busy": "2022-10-27T13:17:40.301202Z",
     "iopub.status.idle": "2022-10-27T13:17:42.785865Z",
     "shell.execute_reply": "2022-10-27T13:17:42.784676Z"
    },
    "papermill": {
     "duration": 2.495946,
     "end_time": "2022-10-27T13:17:42.788232",
     "exception": false,
     "start_time": "2022-10-27T13:17:40.292286",
     "status": "completed"
    },
    "tags": []
   },
   "outputs": [
    {
     "data": {
      "text/html": [
       "<div>\n",
       "<style scoped>\n",
       "    .dataframe tbody tr th:only-of-type {\n",
       "        vertical-align: middle;\n",
       "    }\n",
       "\n",
       "    .dataframe tbody tr th {\n",
       "        vertical-align: top;\n",
       "    }\n",
       "\n",
       "    .dataframe thead th {\n",
       "        text-align: right;\n",
       "    }\n",
       "</style>\n",
       "<table border=\"1\" class=\"dataframe\">\n",
       "  <thead>\n",
       "    <tr style=\"text-align: right;\">\n",
       "      <th></th>\n",
       "      <th>label</th>\n",
       "      <th>pixel0</th>\n",
       "      <th>pixel1</th>\n",
       "      <th>pixel2</th>\n",
       "      <th>pixel3</th>\n",
       "      <th>pixel4</th>\n",
       "      <th>pixel5</th>\n",
       "      <th>pixel6</th>\n",
       "      <th>pixel7</th>\n",
       "      <th>pixel8</th>\n",
       "      <th>...</th>\n",
       "      <th>pixel774</th>\n",
       "      <th>pixel775</th>\n",
       "      <th>pixel776</th>\n",
       "      <th>pixel777</th>\n",
       "      <th>pixel778</th>\n",
       "      <th>pixel779</th>\n",
       "      <th>pixel780</th>\n",
       "      <th>pixel781</th>\n",
       "      <th>pixel782</th>\n",
       "      <th>pixel783</th>\n",
       "    </tr>\n",
       "  </thead>\n",
       "  <tbody>\n",
       "    <tr>\n",
       "      <th>count</th>\n",
       "      <td>42000.000000</td>\n",
       "      <td>42000.0</td>\n",
       "      <td>42000.0</td>\n",
       "      <td>42000.0</td>\n",
       "      <td>42000.0</td>\n",
       "      <td>42000.0</td>\n",
       "      <td>42000.0</td>\n",
       "      <td>42000.0</td>\n",
       "      <td>42000.0</td>\n",
       "      <td>42000.0</td>\n",
       "      <td>...</td>\n",
       "      <td>42000.000000</td>\n",
       "      <td>42000.000000</td>\n",
       "      <td>42000.000000</td>\n",
       "      <td>42000.00000</td>\n",
       "      <td>42000.000000</td>\n",
       "      <td>42000.000000</td>\n",
       "      <td>42000.0</td>\n",
       "      <td>42000.0</td>\n",
       "      <td>42000.0</td>\n",
       "      <td>42000.0</td>\n",
       "    </tr>\n",
       "    <tr>\n",
       "      <th>mean</th>\n",
       "      <td>4.456643</td>\n",
       "      <td>0.0</td>\n",
       "      <td>0.0</td>\n",
       "      <td>0.0</td>\n",
       "      <td>0.0</td>\n",
       "      <td>0.0</td>\n",
       "      <td>0.0</td>\n",
       "      <td>0.0</td>\n",
       "      <td>0.0</td>\n",
       "      <td>0.0</td>\n",
       "      <td>...</td>\n",
       "      <td>0.219286</td>\n",
       "      <td>0.117095</td>\n",
       "      <td>0.059024</td>\n",
       "      <td>0.02019</td>\n",
       "      <td>0.017238</td>\n",
       "      <td>0.002857</td>\n",
       "      <td>0.0</td>\n",
       "      <td>0.0</td>\n",
       "      <td>0.0</td>\n",
       "      <td>0.0</td>\n",
       "    </tr>\n",
       "    <tr>\n",
       "      <th>std</th>\n",
       "      <td>2.887730</td>\n",
       "      <td>0.0</td>\n",
       "      <td>0.0</td>\n",
       "      <td>0.0</td>\n",
       "      <td>0.0</td>\n",
       "      <td>0.0</td>\n",
       "      <td>0.0</td>\n",
       "      <td>0.0</td>\n",
       "      <td>0.0</td>\n",
       "      <td>0.0</td>\n",
       "      <td>...</td>\n",
       "      <td>6.312890</td>\n",
       "      <td>4.633819</td>\n",
       "      <td>3.274488</td>\n",
       "      <td>1.75987</td>\n",
       "      <td>1.894498</td>\n",
       "      <td>0.414264</td>\n",
       "      <td>0.0</td>\n",
       "      <td>0.0</td>\n",
       "      <td>0.0</td>\n",
       "      <td>0.0</td>\n",
       "    </tr>\n",
       "    <tr>\n",
       "      <th>min</th>\n",
       "      <td>0.000000</td>\n",
       "      <td>0.0</td>\n",
       "      <td>0.0</td>\n",
       "      <td>0.0</td>\n",
       "      <td>0.0</td>\n",
       "      <td>0.0</td>\n",
       "      <td>0.0</td>\n",
       "      <td>0.0</td>\n",
       "      <td>0.0</td>\n",
       "      <td>0.0</td>\n",
       "      <td>...</td>\n",
       "      <td>0.000000</td>\n",
       "      <td>0.000000</td>\n",
       "      <td>0.000000</td>\n",
       "      <td>0.00000</td>\n",
       "      <td>0.000000</td>\n",
       "      <td>0.000000</td>\n",
       "      <td>0.0</td>\n",
       "      <td>0.0</td>\n",
       "      <td>0.0</td>\n",
       "      <td>0.0</td>\n",
       "    </tr>\n",
       "    <tr>\n",
       "      <th>25%</th>\n",
       "      <td>2.000000</td>\n",
       "      <td>0.0</td>\n",
       "      <td>0.0</td>\n",
       "      <td>0.0</td>\n",
       "      <td>0.0</td>\n",
       "      <td>0.0</td>\n",
       "      <td>0.0</td>\n",
       "      <td>0.0</td>\n",
       "      <td>0.0</td>\n",
       "      <td>0.0</td>\n",
       "      <td>...</td>\n",
       "      <td>0.000000</td>\n",
       "      <td>0.000000</td>\n",
       "      <td>0.000000</td>\n",
       "      <td>0.00000</td>\n",
       "      <td>0.000000</td>\n",
       "      <td>0.000000</td>\n",
       "      <td>0.0</td>\n",
       "      <td>0.0</td>\n",
       "      <td>0.0</td>\n",
       "      <td>0.0</td>\n",
       "    </tr>\n",
       "    <tr>\n",
       "      <th>50%</th>\n",
       "      <td>4.000000</td>\n",
       "      <td>0.0</td>\n",
       "      <td>0.0</td>\n",
       "      <td>0.0</td>\n",
       "      <td>0.0</td>\n",
       "      <td>0.0</td>\n",
       "      <td>0.0</td>\n",
       "      <td>0.0</td>\n",
       "      <td>0.0</td>\n",
       "      <td>0.0</td>\n",
       "      <td>...</td>\n",
       "      <td>0.000000</td>\n",
       "      <td>0.000000</td>\n",
       "      <td>0.000000</td>\n",
       "      <td>0.00000</td>\n",
       "      <td>0.000000</td>\n",
       "      <td>0.000000</td>\n",
       "      <td>0.0</td>\n",
       "      <td>0.0</td>\n",
       "      <td>0.0</td>\n",
       "      <td>0.0</td>\n",
       "    </tr>\n",
       "    <tr>\n",
       "      <th>75%</th>\n",
       "      <td>7.000000</td>\n",
       "      <td>0.0</td>\n",
       "      <td>0.0</td>\n",
       "      <td>0.0</td>\n",
       "      <td>0.0</td>\n",
       "      <td>0.0</td>\n",
       "      <td>0.0</td>\n",
       "      <td>0.0</td>\n",
       "      <td>0.0</td>\n",
       "      <td>0.0</td>\n",
       "      <td>...</td>\n",
       "      <td>0.000000</td>\n",
       "      <td>0.000000</td>\n",
       "      <td>0.000000</td>\n",
       "      <td>0.00000</td>\n",
       "      <td>0.000000</td>\n",
       "      <td>0.000000</td>\n",
       "      <td>0.0</td>\n",
       "      <td>0.0</td>\n",
       "      <td>0.0</td>\n",
       "      <td>0.0</td>\n",
       "    </tr>\n",
       "    <tr>\n",
       "      <th>max</th>\n",
       "      <td>9.000000</td>\n",
       "      <td>0.0</td>\n",
       "      <td>0.0</td>\n",
       "      <td>0.0</td>\n",
       "      <td>0.0</td>\n",
       "      <td>0.0</td>\n",
       "      <td>0.0</td>\n",
       "      <td>0.0</td>\n",
       "      <td>0.0</td>\n",
       "      <td>0.0</td>\n",
       "      <td>...</td>\n",
       "      <td>254.000000</td>\n",
       "      <td>254.000000</td>\n",
       "      <td>253.000000</td>\n",
       "      <td>253.00000</td>\n",
       "      <td>254.000000</td>\n",
       "      <td>62.000000</td>\n",
       "      <td>0.0</td>\n",
       "      <td>0.0</td>\n",
       "      <td>0.0</td>\n",
       "      <td>0.0</td>\n",
       "    </tr>\n",
       "  </tbody>\n",
       "</table>\n",
       "<p>8 rows × 785 columns</p>\n",
       "</div>"
      ],
      "text/plain": [
       "              label   pixel0   pixel1   pixel2   pixel3   pixel4   pixel5  \\\n",
       "count  42000.000000  42000.0  42000.0  42000.0  42000.0  42000.0  42000.0   \n",
       "mean       4.456643      0.0      0.0      0.0      0.0      0.0      0.0   \n",
       "std        2.887730      0.0      0.0      0.0      0.0      0.0      0.0   \n",
       "min        0.000000      0.0      0.0      0.0      0.0      0.0      0.0   \n",
       "25%        2.000000      0.0      0.0      0.0      0.0      0.0      0.0   \n",
       "50%        4.000000      0.0      0.0      0.0      0.0      0.0      0.0   \n",
       "75%        7.000000      0.0      0.0      0.0      0.0      0.0      0.0   \n",
       "max        9.000000      0.0      0.0      0.0      0.0      0.0      0.0   \n",
       "\n",
       "        pixel6   pixel7   pixel8  ...      pixel774      pixel775  \\\n",
       "count  42000.0  42000.0  42000.0  ...  42000.000000  42000.000000   \n",
       "mean       0.0      0.0      0.0  ...      0.219286      0.117095   \n",
       "std        0.0      0.0      0.0  ...      6.312890      4.633819   \n",
       "min        0.0      0.0      0.0  ...      0.000000      0.000000   \n",
       "25%        0.0      0.0      0.0  ...      0.000000      0.000000   \n",
       "50%        0.0      0.0      0.0  ...      0.000000      0.000000   \n",
       "75%        0.0      0.0      0.0  ...      0.000000      0.000000   \n",
       "max        0.0      0.0      0.0  ...    254.000000    254.000000   \n",
       "\n",
       "           pixel776     pixel777      pixel778      pixel779  pixel780  \\\n",
       "count  42000.000000  42000.00000  42000.000000  42000.000000   42000.0   \n",
       "mean       0.059024      0.02019      0.017238      0.002857       0.0   \n",
       "std        3.274488      1.75987      1.894498      0.414264       0.0   \n",
       "min        0.000000      0.00000      0.000000      0.000000       0.0   \n",
       "25%        0.000000      0.00000      0.000000      0.000000       0.0   \n",
       "50%        0.000000      0.00000      0.000000      0.000000       0.0   \n",
       "75%        0.000000      0.00000      0.000000      0.000000       0.0   \n",
       "max      253.000000    253.00000    254.000000     62.000000       0.0   \n",
       "\n",
       "       pixel781  pixel782  pixel783  \n",
       "count   42000.0   42000.0   42000.0  \n",
       "mean        0.0       0.0       0.0  \n",
       "std         0.0       0.0       0.0  \n",
       "min         0.0       0.0       0.0  \n",
       "25%         0.0       0.0       0.0  \n",
       "50%         0.0       0.0       0.0  \n",
       "75%         0.0       0.0       0.0  \n",
       "max         0.0       0.0       0.0  \n",
       "\n",
       "[8 rows x 785 columns]"
      ]
     },
     "execution_count": 6,
     "metadata": {},
     "output_type": "execute_result"
    }
   ],
   "source": [
    "train.describe()"
   ]
  },
  {
   "cell_type": "code",
   "execution_count": 7,
   "id": "a01f80a4",
   "metadata": {
    "execution": {
     "iopub.execute_input": "2022-10-27T13:17:42.806351Z",
     "iopub.status.busy": "2022-10-27T13:17:42.805912Z",
     "iopub.status.idle": "2022-10-27T13:17:42.861349Z",
     "shell.execute_reply": "2022-10-27T13:17:42.860246Z"
    },
    "papermill": {
     "duration": 0.067256,
     "end_time": "2022-10-27T13:17:42.863873",
     "exception": false,
     "start_time": "2022-10-27T13:17:42.796617",
     "status": "completed"
    },
    "tags": []
   },
   "outputs": [
    {
     "data": {
      "text/plain": [
       "label       0\n",
       "pixel0      0\n",
       "pixel1      0\n",
       "pixel2      0\n",
       "pixel3      0\n",
       "           ..\n",
       "pixel779    0\n",
       "pixel780    0\n",
       "pixel781    0\n",
       "pixel782    0\n",
       "pixel783    0\n",
       "Length: 785, dtype: int64"
      ]
     },
     "execution_count": 7,
     "metadata": {},
     "output_type": "execute_result"
    }
   ],
   "source": [
    "train.isnull().sum()"
   ]
  },
  {
   "cell_type": "code",
   "execution_count": 8,
   "id": "d36dbe44",
   "metadata": {
    "execution": {
     "iopub.execute_input": "2022-10-27T13:17:42.882352Z",
     "iopub.status.busy": "2022-10-27T13:17:42.881903Z",
     "iopub.status.idle": "2022-10-27T13:17:43.766253Z",
     "shell.execute_reply": "2022-10-27T13:17:43.765080Z"
    },
    "papermill": {
     "duration": 0.896601,
     "end_time": "2022-10-27T13:17:43.769019",
     "exception": false,
     "start_time": "2022-10-27T13:17:42.872418",
     "status": "completed"
    },
    "tags": []
   },
   "outputs": [],
   "source": [
    "import seaborn as sns\n",
    "import matplotlib.pyplot as plt"
   ]
  },
  {
   "cell_type": "code",
   "execution_count": 9,
   "id": "4bc2aa1a",
   "metadata": {
    "execution": {
     "iopub.execute_input": "2022-10-27T13:17:43.787146Z",
     "iopub.status.busy": "2022-10-27T13:17:43.786749Z",
     "iopub.status.idle": "2022-10-27T13:17:43.804169Z",
     "shell.execute_reply": "2022-10-27T13:17:43.803035Z"
    },
    "papermill": {
     "duration": 0.029238,
     "end_time": "2022-10-27T13:17:43.806553",
     "exception": false,
     "start_time": "2022-10-27T13:17:43.777315",
     "status": "completed"
    },
    "tags": []
   },
   "outputs": [
    {
     "data": {
      "text/html": [
       "<div>\n",
       "<style scoped>\n",
       "    .dataframe tbody tr th:only-of-type {\n",
       "        vertical-align: middle;\n",
       "    }\n",
       "\n",
       "    .dataframe tbody tr th {\n",
       "        vertical-align: top;\n",
       "    }\n",
       "\n",
       "    .dataframe thead th {\n",
       "        text-align: right;\n",
       "    }\n",
       "</style>\n",
       "<table border=\"1\" class=\"dataframe\">\n",
       "  <thead>\n",
       "    <tr style=\"text-align: right;\">\n",
       "      <th></th>\n",
       "      <th>label</th>\n",
       "      <th>pixel0</th>\n",
       "      <th>pixel1</th>\n",
       "      <th>pixel2</th>\n",
       "      <th>pixel3</th>\n",
       "      <th>pixel4</th>\n",
       "      <th>pixel5</th>\n",
       "      <th>pixel6</th>\n",
       "      <th>pixel7</th>\n",
       "      <th>pixel8</th>\n",
       "      <th>...</th>\n",
       "      <th>pixel774</th>\n",
       "      <th>pixel775</th>\n",
       "      <th>pixel776</th>\n",
       "      <th>pixel777</th>\n",
       "      <th>pixel778</th>\n",
       "      <th>pixel779</th>\n",
       "      <th>pixel780</th>\n",
       "      <th>pixel781</th>\n",
       "      <th>pixel782</th>\n",
       "      <th>pixel783</th>\n",
       "    </tr>\n",
       "  </thead>\n",
       "  <tbody>\n",
       "    <tr>\n",
       "      <th>0</th>\n",
       "      <td>1</td>\n",
       "      <td>0</td>\n",
       "      <td>0</td>\n",
       "      <td>0</td>\n",
       "      <td>0</td>\n",
       "      <td>0</td>\n",
       "      <td>0</td>\n",
       "      <td>0</td>\n",
       "      <td>0</td>\n",
       "      <td>0</td>\n",
       "      <td>...</td>\n",
       "      <td>0</td>\n",
       "      <td>0</td>\n",
       "      <td>0</td>\n",
       "      <td>0</td>\n",
       "      <td>0</td>\n",
       "      <td>0</td>\n",
       "      <td>0</td>\n",
       "      <td>0</td>\n",
       "      <td>0</td>\n",
       "      <td>0</td>\n",
       "    </tr>\n",
       "    <tr>\n",
       "      <th>1</th>\n",
       "      <td>0</td>\n",
       "      <td>0</td>\n",
       "      <td>0</td>\n",
       "      <td>0</td>\n",
       "      <td>0</td>\n",
       "      <td>0</td>\n",
       "      <td>0</td>\n",
       "      <td>0</td>\n",
       "      <td>0</td>\n",
       "      <td>0</td>\n",
       "      <td>...</td>\n",
       "      <td>0</td>\n",
       "      <td>0</td>\n",
       "      <td>0</td>\n",
       "      <td>0</td>\n",
       "      <td>0</td>\n",
       "      <td>0</td>\n",
       "      <td>0</td>\n",
       "      <td>0</td>\n",
       "      <td>0</td>\n",
       "      <td>0</td>\n",
       "    </tr>\n",
       "    <tr>\n",
       "      <th>2</th>\n",
       "      <td>1</td>\n",
       "      <td>0</td>\n",
       "      <td>0</td>\n",
       "      <td>0</td>\n",
       "      <td>0</td>\n",
       "      <td>0</td>\n",
       "      <td>0</td>\n",
       "      <td>0</td>\n",
       "      <td>0</td>\n",
       "      <td>0</td>\n",
       "      <td>...</td>\n",
       "      <td>0</td>\n",
       "      <td>0</td>\n",
       "      <td>0</td>\n",
       "      <td>0</td>\n",
       "      <td>0</td>\n",
       "      <td>0</td>\n",
       "      <td>0</td>\n",
       "      <td>0</td>\n",
       "      <td>0</td>\n",
       "      <td>0</td>\n",
       "    </tr>\n",
       "    <tr>\n",
       "      <th>3</th>\n",
       "      <td>4</td>\n",
       "      <td>0</td>\n",
       "      <td>0</td>\n",
       "      <td>0</td>\n",
       "      <td>0</td>\n",
       "      <td>0</td>\n",
       "      <td>0</td>\n",
       "      <td>0</td>\n",
       "      <td>0</td>\n",
       "      <td>0</td>\n",
       "      <td>...</td>\n",
       "      <td>0</td>\n",
       "      <td>0</td>\n",
       "      <td>0</td>\n",
       "      <td>0</td>\n",
       "      <td>0</td>\n",
       "      <td>0</td>\n",
       "      <td>0</td>\n",
       "      <td>0</td>\n",
       "      <td>0</td>\n",
       "      <td>0</td>\n",
       "    </tr>\n",
       "    <tr>\n",
       "      <th>4</th>\n",
       "      <td>0</td>\n",
       "      <td>0</td>\n",
       "      <td>0</td>\n",
       "      <td>0</td>\n",
       "      <td>0</td>\n",
       "      <td>0</td>\n",
       "      <td>0</td>\n",
       "      <td>0</td>\n",
       "      <td>0</td>\n",
       "      <td>0</td>\n",
       "      <td>...</td>\n",
       "      <td>0</td>\n",
       "      <td>0</td>\n",
       "      <td>0</td>\n",
       "      <td>0</td>\n",
       "      <td>0</td>\n",
       "      <td>0</td>\n",
       "      <td>0</td>\n",
       "      <td>0</td>\n",
       "      <td>0</td>\n",
       "      <td>0</td>\n",
       "    </tr>\n",
       "  </tbody>\n",
       "</table>\n",
       "<p>5 rows × 785 columns</p>\n",
       "</div>"
      ],
      "text/plain": [
       "   label  pixel0  pixel1  pixel2  pixel3  pixel4  pixel5  pixel6  pixel7  \\\n",
       "0      1       0       0       0       0       0       0       0       0   \n",
       "1      0       0       0       0       0       0       0       0       0   \n",
       "2      1       0       0       0       0       0       0       0       0   \n",
       "3      4       0       0       0       0       0       0       0       0   \n",
       "4      0       0       0       0       0       0       0       0       0   \n",
       "\n",
       "   pixel8  ...  pixel774  pixel775  pixel776  pixel777  pixel778  pixel779  \\\n",
       "0       0  ...         0         0         0         0         0         0   \n",
       "1       0  ...         0         0         0         0         0         0   \n",
       "2       0  ...         0         0         0         0         0         0   \n",
       "3       0  ...         0         0         0         0         0         0   \n",
       "4       0  ...         0         0         0         0         0         0   \n",
       "\n",
       "   pixel780  pixel781  pixel782  pixel783  \n",
       "0         0         0         0         0  \n",
       "1         0         0         0         0  \n",
       "2         0         0         0         0  \n",
       "3         0         0         0         0  \n",
       "4         0         0         0         0  \n",
       "\n",
       "[5 rows x 785 columns]"
      ]
     },
     "execution_count": 9,
     "metadata": {},
     "output_type": "execute_result"
    }
   ],
   "source": [
    "train.head()"
   ]
  },
  {
   "cell_type": "code",
   "execution_count": 10,
   "id": "0ac4c371",
   "metadata": {
    "execution": {
     "iopub.execute_input": "2022-10-27T13:17:43.825110Z",
     "iopub.status.busy": "2022-10-27T13:17:43.824740Z",
     "iopub.status.idle": "2022-10-27T13:17:43.961232Z",
     "shell.execute_reply": "2022-10-27T13:17:43.960288Z"
    },
    "papermill": {
     "duration": 0.148378,
     "end_time": "2022-10-27T13:17:43.963356",
     "exception": false,
     "start_time": "2022-10-27T13:17:43.814978",
     "status": "completed"
    },
    "tags": []
   },
   "outputs": [],
   "source": [
    "X=train.drop(columns='label')\n",
    "y=train['label']"
   ]
  },
  {
   "cell_type": "code",
   "execution_count": 11,
   "id": "a155ab39",
   "metadata": {
    "execution": {
     "iopub.execute_input": "2022-10-27T13:17:43.982154Z",
     "iopub.status.busy": "2022-10-27T13:17:43.981529Z",
     "iopub.status.idle": "2022-10-27T13:17:44.247572Z",
     "shell.execute_reply": "2022-10-27T13:17:44.246164Z"
    },
    "papermill": {
     "duration": 0.278804,
     "end_time": "2022-10-27T13:17:44.250542",
     "exception": false,
     "start_time": "2022-10-27T13:17:43.971738",
     "status": "completed"
    },
    "tags": []
   },
   "outputs": [
    {
     "data": {
      "text/plain": [
       "<AxesSubplot:>"
      ]
     },
     "execution_count": 11,
     "metadata": {},
     "output_type": "execute_result"
    },
    {
     "data": {
      "image/png": "[encoded data removed]",
      "text/plain": [
       "<Figure size 432x288 with 1 Axes>"
      ]
     },
     "metadata": {
      "needs_background": "light"
     },
     "output_type": "display_data"
    }
   ],
   "source": [
    "count=y.value_counts()\n",
    "count.plot(kind='bar')"
   ]
  },
  {
   "cell_type": "code",
   "execution_count": 12,
   "id": "6efbc8c2",
   "metadata": {
    "execution": {
     "iopub.execute_input": "2022-10-27T13:17:44.271603Z",
     "iopub.status.busy": "2022-10-27T13:17:44.271172Z",
     "iopub.status.idle": "2022-10-27T13:17:44.461342Z",
     "shell.execute_reply": "2022-10-27T13:17:44.460169Z"
    },
    "papermill": {
     "duration": 0.203743,
     "end_time": "2022-10-27T13:17:44.464220",
     "exception": false,
     "start_time": "2022-10-27T13:17:44.260477",
     "status": "completed"
    },
    "tags": []
   },
   "outputs": [],
   "source": [
    "from sklearn.model_selection import train_test_split\n",
    "from sklearn.preprocessing import MinMaxScaler\n",
    "from sklearn.metrics import plot_confusion_matrix,classification_report\n",
    "from sklearn.metrics import accuracy_score,precision_score,recall_score,f1_score,confusion_matrix\n",
    "def get_model(model,df):\n",
    "    X_train,X_test,y_train,y_test= train_test_split(X,y,test_size = 0.2)\n",
    "    mms = MinMaxScaler()\n",
    "    X_train = mms.fit_transform(X_train)\n",
    "    X_test = mms.transform(X_test)\n",
    "    model.fit(X_train,y_train)\n",
    "    predicted=model.predict(X_test)\n",
    "    print('Accuracy : ',100*accuracy_score(y_test,predicted))\n",
    "    print('F1 score:', f1_score(y_test, predicted,average='weighted'))\n",
    "    print('Precision Score : ',100*precision_score(y_test,predicted,average='weighted'))\n",
    "    print('Recall Score : ',100*recall_score(y_test,predicted,average='weighted'))\n",
    "    print('Classification Report:')\n",
    "    print(classification_report(y_test, predicted))\n",
    "    plot_confusion_matrix(model,X_test, y_test)\n",
    "    plt.show()\n",
    "    "
   ]
  },
  {
   "cell_type": "markdown",
   "id": "f337f4b8",
   "metadata": {
    "papermill": {
     "duration": 0.008651,
     "end_time": "2022-10-27T13:17:44.482251",
     "exception": false,
     "start_time": "2022-10-27T13:17:44.473600",
     "status": "completed"
    },
    "tags": []
   },
   "source": [
    "**KNN**"
   ]
  },
  {
   "cell_type": "code",
   "execution_count": 13,
   "id": "6d73179e",
   "metadata": {
    "execution": {
     "iopub.execute_input": "2022-10-27T13:17:44.501805Z",
     "iopub.status.busy": "2022-10-27T13:17:44.501399Z",
     "iopub.status.idle": "2022-10-27T13:18:14.329923Z",
     "shell.execute_reply": "2022-10-27T13:18:14.328985Z"
    },
    "papermill": {
     "duration": 29.841095,
     "end_time": "2022-10-27T13:18:14.332080",
     "exception": false,
     "start_time": "2022-10-27T13:17:44.490985",
     "status": "completed"
    },
    "tags": []
   },
   "outputs": [
    {
     "name": "stdout",
     "output_type": "stream",
     "text": [
      "Accuracy :  96.0952380952381\n",
      "F1 score: 0.9608592851736109\n",
      "Precision Score :  96.1508413559192\n",
      "Recall Score :  96.0952380952381\n",
      "Classification Report:\n",
      "              precision    recall  f1-score   support\n",
      "\n",
      "           0       0.97      1.00      0.98       838\n",
      "           1       0.94      1.00      0.97       940\n",
      "           2       0.98      0.94      0.96       857\n",
      "           3       0.96      0.96      0.96       868\n",
      "           4       0.98      0.95      0.96       796\n",
      "           5       0.97      0.95      0.96       776\n",
      "           6       0.96      0.99      0.98       806\n",
      "           7       0.95      0.97      0.96       894\n",
      "           8       0.99      0.91      0.95       798\n",
      "           9       0.93      0.94      0.94       827\n",
      "\n",
      "    accuracy                           0.96      8400\n",
      "   macro avg       0.96      0.96      0.96      8400\n",
      "weighted avg       0.96      0.96      0.96      8400\n",
      "\n"
     ]
    },
    {
     "data": {
      "image/png": "[encoded data removed]",
      "text/plain": [
       "<Figure size 432x288 with 2 Axes>"
      ]
     },
     "metadata": {
      "needs_background": "light"
     },
     "output_type": "display_data"
    }
   ],
   "source": [
    "from sklearn.neighbors import KNeighborsClassifier as knc\n",
    "model = knc(n_neighbors=10)\n",
    "get_model(model,train)"
   ]
  },
  {
   "cell_type": "markdown",
   "id": "dc77aa9a",
   "metadata": {
    "papermill": {
     "duration": 0.008799,
     "end_time": "2022-10-27T13:18:14.350599",
     "exception": false,
     "start_time": "2022-10-27T13:18:14.341800",
     "status": "completed"
    },
    "tags": []
   },
   "source": [
    "**Random Forest**"
   ]
  },
  {
   "cell_type": "code",
   "execution_count": 14,
   "id": "bc12fe73",
   "metadata": {
    "execution": {
     "iopub.execute_input": "2022-10-27T13:18:14.371503Z",
     "iopub.status.busy": "2022-10-27T13:18:14.370316Z",
     "iopub.status.idle": "2022-10-27T13:18:45.150666Z",
     "shell.execute_reply": "2022-10-27T13:18:45.149466Z"
    },
    "papermill": {
     "duration": 30.80193,
     "end_time": "2022-10-27T13:18:45.161544",
     "exception": false,
     "start_time": "2022-10-27T13:18:14.359614",
     "status": "completed"
    },
    "tags": []
   },
   "outputs": [
    {
     "name": "stdout",
     "output_type": "stream",
     "text": [
      "Accuracy :  96.48809523809524\n",
      "F1 score: 0.9648560850820065\n",
      "Precision Score :  96.48664905713095\n",
      "Recall Score :  96.48809523809524\n",
      "Classification Report:\n",
      "              precision    recall  f1-score   support\n",
      "\n",
      "           0       0.98      0.99      0.98       823\n",
      "           1       0.99      0.99      0.99       979\n",
      "           2       0.96      0.95      0.96       836\n",
      "           3       0.95      0.94      0.95       870\n",
      "           4       0.96      0.97      0.96       790\n",
      "           5       0.96      0.95      0.95       740\n",
      "           6       0.98      0.97      0.98       823\n",
      "           7       0.96      0.97      0.97       890\n",
      "           8       0.96      0.96      0.96       786\n",
      "           9       0.95      0.95      0.95       863\n",
      "\n",
      "    accuracy                           0.96      8400\n",
      "   macro avg       0.96      0.96      0.96      8400\n",
      "weighted avg       0.96      0.96      0.96      8400\n",
      "\n"
     ]
    },
    {
     "data": {
      "image/png": "[encoded data removed]",
      "text/plain": [
       "<Figure size 432x288 with 2 Axes>"
      ]
     },
     "metadata": {
      "needs_background": "light"
     },
     "output_type": "display_data"
    }
   ],
   "source": [
    "from sklearn.ensemble import RandomForestClassifier\n",
    "model=RandomForestClassifier()\n",
    "get_model(model,train)"
   ]
  },
  {
   "cell_type": "markdown",
   "id": "28b9a8f3",
   "metadata": {
    "papermill": {
     "duration": 0.009196,
     "end_time": "2022-10-27T13:18:45.180253",
     "exception": false,
     "start_time": "2022-10-27T13:18:45.171057",
     "status": "completed"
    },
    "tags": []
   },
   "source": [
    "**Decision Tree Classifier**"
   ]
  },
  {
   "cell_type": "code",
   "execution_count": 15,
   "id": "ae5f5045",
   "metadata": {
    "execution": {
     "iopub.execute_input": "2022-10-27T13:18:45.201168Z",
     "iopub.status.busy": "2022-10-27T13:18:45.200748Z",
     "iopub.status.idle": "2022-10-27T13:18:56.515181Z",
     "shell.execute_reply": "2022-10-27T13:18:56.513853Z"
    },
    "papermill": {
     "duration": 11.327676,
     "end_time": "2022-10-27T13:18:56.517532",
     "exception": false,
     "start_time": "2022-10-27T13:18:45.189856",
     "status": "completed"
    },
    "tags": []
   },
   "outputs": [
    {
     "name": "stdout",
     "output_type": "stream",
     "text": [
      "Accuracy :  86.14285714285714\n",
      "F1 score: 0.8611610575683258\n",
      "Precision Score :  86.14013790663442\n",
      "Recall Score :  86.14285714285714\n",
      "Classification Report:\n",
      "              precision    recall  f1-score   support\n",
      "\n",
      "           0       0.94      0.91      0.92       861\n",
      "           1       0.92      0.96      0.94       912\n",
      "           2       0.87      0.83      0.85       912\n",
      "           3       0.82      0.82      0.82       877\n",
      "           4       0.86      0.86      0.86       782\n",
      "           5       0.78      0.78      0.78       739\n",
      "           6       0.88      0.87      0.88       854\n",
      "           7       0.87      0.93      0.90       837\n",
      "           8       0.84      0.81      0.83       820\n",
      "           9       0.81      0.82      0.81       806\n",
      "\n",
      "    accuracy                           0.86      8400\n",
      "   macro avg       0.86      0.86      0.86      8400\n",
      "weighted avg       0.86      0.86      0.86      8400\n",
      "\n"
     ]
    },
    {
     "data": {
      "image/png": "[encoded data removed]",
      "text/plain": [
       "<Figure size 432x288 with 2 Axes>"
      ]
     },
     "metadata": {
      "needs_background": "light"
     },
     "output_type": "display_data"
    }
   ],
   "source": [
    "from sklearn.tree import DecisionTreeClassifier\n",
    "model=DecisionTreeClassifier(criterion='entropy')\n",
    "get_model(model,train)"
   ]
  },
  {
   "cell_type": "markdown",
   "id": "8ed9e826",
   "metadata": {
    "papermill": {
     "duration": 0.010114,
     "end_time": "2022-10-27T13:18:56.538261",
     "exception": false,
     "start_time": "2022-10-27T13:18:56.528147",
     "status": "completed"
    },
    "tags": []
   },
   "source": [
    "**Cart decision Tree**"
   ]
  },
  {
   "cell_type": "code",
   "execution_count": 16,
   "id": "3fa04135",
   "metadata": {
    "execution": {
     "iopub.execute_input": "2022-10-27T13:18:56.561059Z",
     "iopub.status.busy": "2022-10-27T13:18:56.560092Z",
     "iopub.status.idle": "2022-10-27T13:19:09.808911Z",
     "shell.execute_reply": "2022-10-27T13:19:09.807746Z"
    },
    "papermill": {
     "duration": 13.263102,
     "end_time": "2022-10-27T13:19:09.811483",
     "exception": false,
     "start_time": "2022-10-27T13:18:56.548381",
     "status": "completed"
    },
    "tags": []
   },
   "outputs": [
    {
     "name": "stdout",
     "output_type": "stream",
     "text": [
      "Accuracy :  85.79761904761905\n",
      "F1 score: 0.8577431710568874\n",
      "Precision Score :  85.78341990982604\n",
      "Recall Score :  85.79761904761905\n",
      "Classification Report:\n",
      "              precision    recall  f1-score   support\n",
      "\n",
      "           0       0.93      0.91      0.92       806\n",
      "           1       0.93      0.94      0.94       920\n",
      "           2       0.84      0.84      0.84       823\n",
      "           3       0.82      0.82      0.82       894\n",
      "           4       0.83      0.86      0.84       751\n",
      "           5       0.81      0.80      0.81       759\n",
      "           6       0.87      0.91      0.89       858\n",
      "           7       0.88      0.89      0.89       911\n",
      "           8       0.82      0.78      0.80       855\n",
      "           9       0.83      0.82      0.83       823\n",
      "\n",
      "    accuracy                           0.86      8400\n",
      "   macro avg       0.86      0.86      0.86      8400\n",
      "weighted avg       0.86      0.86      0.86      8400\n",
      "\n"
     ]
    },
    {
     "data": {
      "image/png": "[encoded data removed]",
      "text/plain": [
       "<Figure size 432x288 with 2 Axes>"
      ]
     },
     "metadata": {
      "needs_background": "light"
     },
     "output_type": "display_data"
    }
   ],
   "source": [
    "model=DecisionTreeClassifier(criterion='gini')\n",
    "get_model(model,train)"
   ]
  },
  {
   "cell_type": "markdown",
   "id": "92c6abf7",
   "metadata": {
    "papermill": {
     "duration": 0.010649,
     "end_time": "2022-10-27T13:19:09.833129",
     "exception": false,
     "start_time": "2022-10-27T13:19:09.822480",
     "status": "completed"
    },
    "tags": []
   },
   "source": [
    "**Naive Bayes**"
   ]
  },
  {
   "cell_type": "code",
   "execution_count": 17,
   "id": "6bdebc08",
   "metadata": {
    "execution": {
     "iopub.execute_input": "2022-10-27T13:19:09.856510Z",
     "iopub.status.busy": "2022-10-27T13:19:09.856074Z",
     "iopub.status.idle": "2022-10-27T13:19:13.103819Z",
     "shell.execute_reply": "2022-10-27T13:19:13.102969Z"
    },
    "papermill": {
     "duration": 3.262064,
     "end_time": "2022-10-27T13:19:13.106044",
     "exception": false,
     "start_time": "2022-10-27T13:19:09.843980",
     "status": "completed"
    },
    "tags": []
   },
   "outputs": [
    {
     "name": "stdout",
     "output_type": "stream",
     "text": [
      "Accuracy :  54.64285714285714\n",
      "F1 score: 0.5001983836615631\n",
      "Precision Score :  66.72137396299065\n",
      "Recall Score :  54.64285714285714\n",
      "Classification Report:\n",
      "              precision    recall  f1-score   support\n",
      "\n",
      "           0       0.70      0.91      0.79       835\n",
      "           1       0.78      0.95      0.86       958\n",
      "           2       0.87      0.24      0.38       855\n",
      "           3       0.70      0.38      0.49       825\n",
      "           4       0.78      0.13      0.23       838\n",
      "           5       0.57      0.04      0.08       759\n",
      "           6       0.63      0.95      0.76       819\n",
      "           7       0.92      0.29      0.44       895\n",
      "           8       0.30      0.57      0.39       811\n",
      "           9       0.35      0.94      0.51       805\n",
      "\n",
      "    accuracy                           0.55      8400\n",
      "   macro avg       0.66      0.54      0.49      8400\n",
      "weighted avg       0.67      0.55      0.50      8400\n",
      "\n"
     ]
    },
    {
     "data": {
      "image/png": "[encoded data removed]",
      "text/plain": [
       "<Figure size 432x288 with 2 Axes>"
      ]
     },
     "metadata": {
      "needs_background": "light"
     },
     "output_type": "display_data"
    }
   ],
   "source": [
    "from sklearn.naive_bayes import GaussianNB\n",
    "model=GaussianNB()\n",
    "get_model(model,train)"
   ]
  },
  {
   "cell_type": "code",
   "execution_count": 18,
   "id": "66838137",
   "metadata": {
    "execution": {
     "iopub.execute_input": "2022-10-27T13:19:13.131487Z",
     "iopub.status.busy": "2022-10-27T13:19:13.130873Z",
     "iopub.status.idle": "2022-10-27T13:19:43.566225Z",
     "shell.execute_reply": "2022-10-27T13:19:43.565029Z"
    },
    "papermill": {
     "duration": 30.459542,
     "end_time": "2022-10-27T13:19:43.577469",
     "exception": false,
     "start_time": "2022-10-27T13:19:13.117927",
     "status": "completed"
    },
    "tags": []
   },
   "outputs": [
    {
     "name": "stdout",
     "output_type": "stream",
     "text": [
      "Accuracy :  96.5952380952381\n",
      "F1 score: 0.9659616075398861\n",
      "Precision Score :  96.60684795557943\n",
      "Recall Score :  96.5952380952381\n",
      "Classification Report:\n",
      "              precision    recall  f1-score   support\n",
      "\n",
      "           0       0.98      0.99      0.98       833\n",
      "           1       0.99      0.98      0.99       958\n",
      "           2       0.95      0.97      0.96       844\n",
      "           3       0.96      0.95      0.95       855\n",
      "           4       0.97      0.96      0.97       820\n",
      "           5       0.97      0.95      0.96       751\n",
      "           6       0.97      0.99      0.98       873\n",
      "           7       0.97      0.95      0.96       834\n",
      "           8       0.95      0.96      0.96       796\n",
      "           9       0.94      0.95      0.94       836\n",
      "\n",
      "    accuracy                           0.97      8400\n",
      "   macro avg       0.97      0.97      0.97      8400\n",
      "weighted avg       0.97      0.97      0.97      8400\n",
      "\n"
     ]
    },
    {
     "data": {
      "image/png": "[encoded data removed]",
      "text/plain": [
       "<Figure size 432x288 with 2 Axes>"
      ]
     },
     "metadata": {
      "needs_background": "light"
     },
     "output_type": "display_data"
    }
   ],
   "source": [
    "from sklearn.ensemble import ExtraTreesClassifier\n",
    "model = ExtraTreesClassifier()\n",
    "get_model(model,train)"
   ]
  },
  {
   "cell_type": "markdown",
   "id": "b87d3e64",
   "metadata": {
    "papermill": {
     "duration": 0.011608,
     "end_time": "2022-10-27T13:19:43.601060",
     "exception": false,
     "start_time": "2022-10-27T13:19:43.589452",
     "status": "completed"
    },
    "tags": []
   },
   "source": [
    "**LGBM Classifier**"
   ]
  },
  {
   "cell_type": "code",
   "execution_count": 19,
   "id": "259da90f",
   "metadata": {
    "execution": {
     "iopub.execute_input": "2022-10-27T13:19:43.627041Z",
     "iopub.status.busy": "2022-10-27T13:19:43.626318Z",
     "iopub.status.idle": "2022-10-27T13:21:02.950518Z",
     "shell.execute_reply": "2022-10-27T13:21:02.949092Z"
    },
    "papermill": {
     "duration": 79.340012,
     "end_time": "2022-10-27T13:21:02.953039",
     "exception": false,
     "start_time": "2022-10-27T13:19:43.613027",
     "status": "completed"
    },
    "tags": []
   },
   "outputs": [
    {
     "data": {
      "text/html": [
       "<style type='text/css'>\n",
       ".datatable table.frame { margin-bottom: 0; }\n",
       ".datatable table.frame thead { border-bottom: none; }\n",
       ".datatable table.frame tr.coltypes td {  color: #FFFFFF;  line-height: 6px;  padding: 0 0.5em;}\n",
       ".datatable .bool    { background: #DDDD99; }\n",
       ".datatable .object  { background: #565656; }\n",
       ".datatable .int     { background: #5D9E5D; }\n",
       ".datatable .float   { background: #4040CC; }\n",
       ".datatable .str     { background: #CC4040; }\n",
       ".datatable .time    { background: #40CC40; }\n",
       ".datatable .row_index {  background: var(--jp-border-color3);  border-right: 1px solid var(--jp-border-color0);  color: var(--jp-ui-font-color3);  font-size: 9px;}\n",
       ".datatable .frame tbody td { text-align: left; }\n",
       ".datatable .frame tr.coltypes .row_index {  background: var(--jp-border-color0);}\n",
       ".datatable th:nth-child(2) { padding-left: 12px; }\n",
       ".datatable .hellipsis {  color: var(--jp-cell-editor-border-color);}\n",
       ".datatable .vellipsis {  background: var(--jp-layout-color0);  color: var(--jp-cell-editor-border-color);}\n",
       ".datatable .na {  color: var(--jp-cell-editor-border-color);  font-size: 80%;}\n",
       ".datatable .sp {  opacity: 0.25;}\n",
       ".datatable .footer { font-size: 9px; }\n",
       ".datatable .frame_dimensions {  background: var(--jp-border-color3);  border-top: 1px solid var(--jp-border-color0);  color: var(--jp-ui-font-color3);  display: inline-block;  opacity: 0.6;  padding: 1px 10px 1px 5px;}\n",
       "</style>\n"
      ],
      "text/plain": [
       "<IPython.core.display.HTML object>"
      ]
     },
     "metadata": {},
     "output_type": "display_data"
    },
    {
     "name": "stdout",
     "output_type": "stream",
     "text": [
      "Accuracy :  97.63095238095238\n",
      "F1 score: 0.9763100083757558\n",
      "Precision Score :  97.63217175099945\n",
      "Recall Score :  97.63095238095238\n",
      "Classification Report:\n",
      "              precision    recall  f1-score   support\n",
      "\n",
      "           0       0.99      0.98      0.98       830\n",
      "           1       0.98      0.98      0.98       911\n",
      "           2       0.97      0.98      0.98       829\n",
      "           3       0.98      0.97      0.97       920\n",
      "           4       0.97      0.97      0.97       856\n",
      "           5       0.98      0.97      0.98       743\n",
      "           6       0.98      0.99      0.98       796\n",
      "           7       0.97      0.98      0.98       848\n",
      "           8       0.97      0.97      0.97       792\n",
      "           9       0.96      0.97      0.97       875\n",
      "\n",
      "    accuracy                           0.98      8400\n",
      "   macro avg       0.98      0.98      0.98      8400\n",
      "weighted avg       0.98      0.98      0.98      8400\n",
      "\n"
     ]
    },
    {
     "data": {
      "image/png": "[encoded data removed]",
      "text/plain": [
       "<Figure size 432x288 with 2 Axes>"
      ]
     },
     "metadata": {
      "needs_background": "light"
     },
     "output_type": "display_data"
    }
   ],
   "source": [
    "import lightgbm as ltb\n",
    "ltb = ltb.LGBMClassifier(learning_rate=0.2,max_depth=-5,random_state=1)\n",
    "get_model(ltb,train)"
   ]
  },
  {
   "cell_type": "markdown",
   "id": "82357bb6",
   "metadata": {
    "papermill": {
     "duration": 0.012755,
     "end_time": "2022-10-27T13:21:02.979345",
     "exception": false,
     "start_time": "2022-10-27T13:21:02.966590",
     "status": "completed"
    },
    "tags": []
   },
   "source": [
    "**Support Vector Machine**"
   ]
  },
  {
   "cell_type": "code",
   "execution_count": 20,
   "id": "7429e225",
   "metadata": {
    "execution": {
     "iopub.execute_input": "2022-10-27T13:21:03.006607Z",
     "iopub.status.busy": "2022-10-27T13:21:03.006167Z",
     "iopub.status.idle": "2022-10-27T13:25:10.254380Z",
     "shell.execute_reply": "2022-10-27T13:25:10.253540Z"
    },
    "papermill": {
     "duration": 247.277784,
     "end_time": "2022-10-27T13:25:10.269896",
     "exception": false,
     "start_time": "2022-10-27T13:21:02.992112",
     "status": "completed"
    },
    "tags": []
   },
   "outputs": [
    {
     "name": "stdout",
     "output_type": "stream",
     "text": [
      "Accuracy :  97.1547619047619\n",
      "F1 score: 0.9715006973344885\n",
      "Precision Score :  97.15921401229232\n",
      "Recall Score :  97.1547619047619\n",
      "Classification Report:\n",
      "              precision    recall  f1-score   support\n",
      "\n",
      "           0       0.97      0.99      0.98       774\n",
      "           1       0.97      0.99      0.98       910\n",
      "           2       0.98      0.97      0.97       857\n",
      "           3       0.98      0.96      0.97       888\n",
      "           4       0.98      0.98      0.98       842\n",
      "           5       0.96      0.98      0.97       753\n",
      "           6       0.98      0.99      0.98       807\n",
      "           7       0.97      0.98      0.98       859\n",
      "           8       0.97      0.96      0.96       836\n",
      "           9       0.97      0.94      0.96       874\n",
      "\n",
      "    accuracy                           0.97      8400\n",
      "   macro avg       0.97      0.97      0.97      8400\n",
      "weighted avg       0.97      0.97      0.97      8400\n",
      "\n"
     ]
    },
    {
     "data": {
      "image/png": "[encoded data removed]",
      "text/plain": [
       "<Figure size 432x288 with 2 Axes>"
      ]
     },
     "metadata": {
      "needs_background": "light"
     },
     "output_type": "display_data"
    }
   ],
   "source": [
    "from sklearn.svm import SVC \n",
    "svc = SVC(kernel='poly', random_state = 1)\n",
    "get_model(svc,train)"
   ]
  },
  {
   "cell_type": "code",
   "execution_count": 21,
   "id": "3668a4fe",
   "metadata": {
    "execution": {
     "iopub.execute_input": "2022-10-27T13:25:10.298708Z",
     "iopub.status.busy": "2022-10-27T13:25:10.297723Z",
     "iopub.status.idle": "2022-10-27T13:28:35.621716Z",
     "shell.execute_reply": "2022-10-27T13:28:35.620536Z"
    },
    "papermill": {
     "duration": 205.355273,
     "end_time": "2022-10-27T13:28:35.638454",
     "exception": false,
     "start_time": "2022-10-27T13:25:10.283181",
     "status": "completed"
    },
    "tags": []
   },
   "outputs": [
    {
     "name": "stdout",
     "output_type": "stream",
     "text": [
      "Accuracy :  93.0\n",
      "F1 score: 0.9297588814563104\n",
      "Precision Score :  92.99108686200086\n",
      "Recall Score :  93.0\n",
      "Classification Report:\n",
      "              precision    recall  f1-score   support\n",
      "\n",
      "           0       0.95      0.97      0.96       803\n",
      "           1       0.96      0.99      0.97       944\n",
      "           2       0.90      0.93      0.92       822\n",
      "           3       0.89      0.89      0.89       884\n",
      "           4       0.92      0.96      0.94       800\n",
      "           5       0.91      0.88      0.89       752\n",
      "           6       0.96      0.96      0.96       826\n",
      "           7       0.94      0.94      0.94       867\n",
      "           8       0.93      0.88      0.90       831\n",
      "           9       0.93      0.90      0.91       871\n",
      "\n",
      "    accuracy                           0.93      8400\n",
      "   macro avg       0.93      0.93      0.93      8400\n",
      "weighted avg       0.93      0.93      0.93      8400\n",
      "\n"
     ]
    },
    {
     "data": {
      "image/png": "[encoded data removed]",
      "text/plain": [
       "<Figure size 432x288 with 2 Axes>"
      ]
     },
     "metadata": {
      "needs_background": "light"
     },
     "output_type": "display_data"
    }
   ],
   "source": [
    "svc = SVC(kernel='linear', random_state = 1)\n",
    "get_model(svc,train)"
   ]
  },
  {
   "cell_type": "code",
   "execution_count": 22,
   "id": "56f3412c",
   "metadata": {
    "execution": {
     "iopub.execute_input": "2022-10-27T13:28:35.668048Z",
     "iopub.status.busy": "2022-10-27T13:28:35.667337Z",
     "iopub.status.idle": "2022-10-27T13:28:35.687618Z",
     "shell.execute_reply": "2022-10-27T13:28:35.686489Z"
    },
    "papermill": {
     "duration": 0.037696,
     "end_time": "2022-10-27T13:28:35.690031",
     "exception": false,
     "start_time": "2022-10-27T13:28:35.652335",
     "status": "completed"
    },
    "tags": []
   },
   "outputs": [
    {
     "data": {
      "text/html": [
       "<div>\n",
       "<style scoped>\n",
       "    .dataframe tbody tr th:only-of-type {\n",
       "        vertical-align: middle;\n",
       "    }\n",
       "\n",
       "    .dataframe tbody tr th {\n",
       "        vertical-align: top;\n",
       "    }\n",
       "\n",
       "    .dataframe thead th {\n",
       "        text-align: right;\n",
       "    }\n",
       "</style>\n",
       "<table border=\"1\" class=\"dataframe\">\n",
       "  <thead>\n",
       "    <tr style=\"text-align: right;\">\n",
       "      <th></th>\n",
       "      <th>pixel0</th>\n",
       "      <th>pixel1</th>\n",
       "      <th>pixel2</th>\n",
       "      <th>pixel3</th>\n",
       "      <th>pixel4</th>\n",
       "      <th>pixel5</th>\n",
       "      <th>pixel6</th>\n",
       "      <th>pixel7</th>\n",
       "      <th>pixel8</th>\n",
       "      <th>pixel9</th>\n",
       "      <th>...</th>\n",
       "      <th>pixel774</th>\n",
       "      <th>pixel775</th>\n",
       "      <th>pixel776</th>\n",
       "      <th>pixel777</th>\n",
       "      <th>pixel778</th>\n",
       "      <th>pixel779</th>\n",
       "      <th>pixel780</th>\n",
       "      <th>pixel781</th>\n",
       "      <th>pixel782</th>\n",
       "      <th>pixel783</th>\n",
       "    </tr>\n",
       "  </thead>\n",
       "  <tbody>\n",
       "    <tr>\n",
       "      <th>0</th>\n",
       "      <td>0</td>\n",
       "      <td>0</td>\n",
       "      <td>0</td>\n",
       "      <td>0</td>\n",
       "      <td>0</td>\n",
       "      <td>0</td>\n",
       "      <td>0</td>\n",
       "      <td>0</td>\n",
       "      <td>0</td>\n",
       "      <td>0</td>\n",
       "      <td>...</td>\n",
       "      <td>0</td>\n",
       "      <td>0</td>\n",
       "      <td>0</td>\n",
       "      <td>0</td>\n",
       "      <td>0</td>\n",
       "      <td>0</td>\n",
       "      <td>0</td>\n",
       "      <td>0</td>\n",
       "      <td>0</td>\n",
       "      <td>0</td>\n",
       "    </tr>\n",
       "    <tr>\n",
       "      <th>1</th>\n",
       "      <td>0</td>\n",
       "      <td>0</td>\n",
       "      <td>0</td>\n",
       "      <td>0</td>\n",
       "      <td>0</td>\n",
       "      <td>0</td>\n",
       "      <td>0</td>\n",
       "      <td>0</td>\n",
       "      <td>0</td>\n",
       "      <td>0</td>\n",
       "      <td>...</td>\n",
       "      <td>0</td>\n",
       "      <td>0</td>\n",
       "      <td>0</td>\n",
       "      <td>0</td>\n",
       "      <td>0</td>\n",
       "      <td>0</td>\n",
       "      <td>0</td>\n",
       "      <td>0</td>\n",
       "      <td>0</td>\n",
       "      <td>0</td>\n",
       "    </tr>\n",
       "    <tr>\n",
       "      <th>2</th>\n",
       "      <td>0</td>\n",
       "      <td>0</td>\n",
       "      <td>0</td>\n",
       "      <td>0</td>\n",
       "      <td>0</td>\n",
       "      <td>0</td>\n",
       "      <td>0</td>\n",
       "      <td>0</td>\n",
       "      <td>0</td>\n",
       "      <td>0</td>\n",
       "      <td>...</td>\n",
       "      <td>0</td>\n",
       "      <td>0</td>\n",
       "      <td>0</td>\n",
       "      <td>0</td>\n",
       "      <td>0</td>\n",
       "      <td>0</td>\n",
       "      <td>0</td>\n",
       "      <td>0</td>\n",
       "      <td>0</td>\n",
       "      <td>0</td>\n",
       "    </tr>\n",
       "    <tr>\n",
       "      <th>3</th>\n",
       "      <td>0</td>\n",
       "      <td>0</td>\n",
       "      <td>0</td>\n",
       "      <td>0</td>\n",
       "      <td>0</td>\n",
       "      <td>0</td>\n",
       "      <td>0</td>\n",
       "      <td>0</td>\n",
       "      <td>0</td>\n",
       "      <td>0</td>\n",
       "      <td>...</td>\n",
       "      <td>0</td>\n",
       "      <td>0</td>\n",
       "      <td>0</td>\n",
       "      <td>0</td>\n",
       "      <td>0</td>\n",
       "      <td>0</td>\n",
       "      <td>0</td>\n",
       "      <td>0</td>\n",
       "      <td>0</td>\n",
       "      <td>0</td>\n",
       "    </tr>\n",
       "    <tr>\n",
       "      <th>4</th>\n",
       "      <td>0</td>\n",
       "      <td>0</td>\n",
       "      <td>0</td>\n",
       "      <td>0</td>\n",
       "      <td>0</td>\n",
       "      <td>0</td>\n",
       "      <td>0</td>\n",
       "      <td>0</td>\n",
       "      <td>0</td>\n",
       "      <td>0</td>\n",
       "      <td>...</td>\n",
       "      <td>0</td>\n",
       "      <td>0</td>\n",
       "      <td>0</td>\n",
       "      <td>0</td>\n",
       "      <td>0</td>\n",
       "      <td>0</td>\n",
       "      <td>0</td>\n",
       "      <td>0</td>\n",
       "      <td>0</td>\n",
       "      <td>0</td>\n",
       "    </tr>\n",
       "  </tbody>\n",
       "</table>\n",
       "<p>5 rows × 784 columns</p>\n",
       "</div>"
      ],
      "text/plain": [
       "   pixel0  pixel1  pixel2  pixel3  pixel4  pixel5  pixel6  pixel7  pixel8  \\\n",
       "0       0       0       0       0       0       0       0       0       0   \n",
       "1       0       0       0       0       0       0       0       0       0   \n",
       "2       0       0       0       0       0       0       0       0       0   \n",
       "3       0       0       0       0       0       0       0       0       0   \n",
       "4       0       0       0       0       0       0       0       0       0   \n",
       "\n",
       "   pixel9  ...  pixel774  pixel775  pixel776  pixel777  pixel778  pixel779  \\\n",
       "0       0  ...         0         0         0         0         0         0   \n",
       "1       0  ...         0         0         0         0         0         0   \n",
       "2       0  ...         0         0         0         0         0         0   \n",
       "3       0  ...         0         0         0         0         0         0   \n",
       "4       0  ...         0         0         0         0         0         0   \n",
       "\n",
       "   pixel780  pixel781  pixel782  pixel783  \n",
       "0         0         0         0         0  \n",
       "1         0         0         0         0  \n",
       "2         0         0         0         0  \n",
       "3         0         0         0         0  \n",
       "4         0         0         0         0  \n",
       "\n",
       "[5 rows x 784 columns]"
      ]
     },
     "execution_count": 22,
     "metadata": {},
     "output_type": "execute_result"
    }
   ],
   "source": [
    "test.head()"
   ]
  },
  {
   "cell_type": "code",
   "execution_count": 23,
   "id": "8740077c",
   "metadata": {
    "execution": {
     "iopub.execute_input": "2022-10-27T13:28:35.720672Z",
     "iopub.status.busy": "2022-10-27T13:28:35.720221Z",
     "iopub.status.idle": "2022-10-27T13:28:37.368497Z",
     "shell.execute_reply": "2022-10-27T13:28:37.367327Z"
    },
    "papermill": {
     "duration": 1.666357,
     "end_time": "2022-10-27T13:28:37.370964",
     "exception": false,
     "start_time": "2022-10-27T13:28:35.704607",
     "status": "completed"
    },
    "tags": []
   },
   "outputs": [
    {
     "data": {
      "text/html": [
       "<div>\n",
       "<style scoped>\n",
       "    .dataframe tbody tr th:only-of-type {\n",
       "        vertical-align: middle;\n",
       "    }\n",
       "\n",
       "    .dataframe tbody tr th {\n",
       "        vertical-align: top;\n",
       "    }\n",
       "\n",
       "    .dataframe thead th {\n",
       "        text-align: right;\n",
       "    }\n",
       "</style>\n",
       "<table border=\"1\" class=\"dataframe\">\n",
       "  <thead>\n",
       "    <tr style=\"text-align: right;\">\n",
       "      <th></th>\n",
       "      <th>ImageId</th>\n",
       "      <th>Label</th>\n",
       "    </tr>\n",
       "  </thead>\n",
       "  <tbody>\n",
       "    <tr>\n",
       "      <th>0</th>\n",
       "      <td>1</td>\n",
       "      <td>2</td>\n",
       "    </tr>\n",
       "    <tr>\n",
       "      <th>1</th>\n",
       "      <td>2</td>\n",
       "      <td>0</td>\n",
       "    </tr>\n",
       "    <tr>\n",
       "      <th>2</th>\n",
       "      <td>3</td>\n",
       "      <td>9</td>\n",
       "    </tr>\n",
       "    <tr>\n",
       "      <th>3</th>\n",
       "      <td>4</td>\n",
       "      <td>9</td>\n",
       "    </tr>\n",
       "    <tr>\n",
       "      <th>4</th>\n",
       "      <td>5</td>\n",
       "      <td>3</td>\n",
       "    </tr>\n",
       "  </tbody>\n",
       "</table>\n",
       "</div>"
      ],
      "text/plain": [
       "   ImageId  Label\n",
       "0        1      2\n",
       "1        2      0\n",
       "2        3      9\n",
       "3        4      9\n",
       "4        5      3"
      ]
     },
     "execution_count": 23,
     "metadata": {},
     "output_type": "execute_result"
    }
   ],
   "source": [
    "results=model.predict(test)\n",
    "results = pd.Series(results,name=\"Label\")\n",
    "submission = pd.concat([pd.Series(range(1,28001),name = \"ImageId\"),results],axis = 1)\n",
    "submission.head()"
   ]
  },
  {
   "cell_type": "code",
   "execution_count": 24,
   "id": "48d52665",
   "metadata": {
    "execution": {
     "iopub.execute_input": "2022-10-27T13:28:37.401676Z",
     "iopub.status.busy": "2022-10-27T13:28:37.401243Z",
     "iopub.status.idle": "2022-10-27T13:28:37.437582Z",
     "shell.execute_reply": "2022-10-27T13:28:37.436443Z"
    },
    "papermill": {
     "duration": 0.054827,
     "end_time": "2022-10-27T13:28:37.440233",
     "exception": false,
     "start_time": "2022-10-27T13:28:37.385406",
     "status": "completed"
    },
    "tags": []
   },
   "outputs": [],
   "source": [
    "submission.to_csv(\"submission.csv\",index=False)"
   ]
  },
  {
   "cell_type": "code",
   "execution_count": null,
   "id": "7a513a5f",
   "metadata": {
    "papermill": {
     "duration": 0.013911,
     "end_time": "2022-10-27T13:28:37.468458",
     "exception": false,
     "start_time": "2022-10-27T13:28:37.454547",
     "status": "completed"
    },
    "tags": []
   },
   "outputs": [],
   "source": []
  }
 ],
 "metadata": {
  "kernelspec": {
   "display_name": "Python 3",
   "language": "python",
   "name": "python3"
  },
  "language_info": {
   "codemirror_mode": {
    "name": "ipython",
    "version": 3
   },
   "file_extension": ".py",
   "mimetype": "text/x-python",
   "name": "python",
   "nbconvert_exporter": "python",
   "pygments_lexer": "ipython3",
   "version": "3.7.12"
  },
  "papermill": {
   "default_parameters": {},
   "duration": 672.996298,
   "end_time": "2022-10-27T13:28:38.405618",
   "environment_variables": {},
   "exception": null,
   "input_path": "__notebook__.ipynb",
   "output_path": "__notebook__.ipynb",
   "parameters": {},
   "start_time": "2022-10-27T13:17:25.409320",
   "version": "2.3.4"
  }
 },
 "nbformat": 4,
 "nbformat_minor": 5
}
